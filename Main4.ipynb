{
 "cells": [
  {
   "cell_type": "code",
   "execution_count": 16,
   "metadata": {},
   "outputs": [],
   "source": [
    "import pandas as pd\n",
    "train_df = pd.read_csv('Train.csv')\n",
    "test_df = pd.read_csv('Test.csv')"
   ]
  },
  {
   "cell_type": "code",
   "execution_count": 17,
   "metadata": {},
   "outputs": [
    {
     "name": "stdout",
     "output_type": "stream",
     "text": [
      "Number of rows with z-scores between -3 and 3 for all columns: 7545335\n"
     ]
    }
   ],
   "source": [
    "import pandas as pd\n",
    "from scipy.stats import zscore\n",
    "\n",
    "\n",
    "z_scores = train_df.apply(zscore)\n",
    "\n",
    "in_range = (z_scores >= -3) & (z_scores <= 3)\n",
    "\n",
    "rows_in_range = in_range.all(axis=1)\n",
    "\n",
    "train_df = train_df[rows_in_range]\n",
    "\n",
    "num_rows = train_df.shape[0]\n",
    "\n",
    "print(f\"Number of rows with z-scores between -3 and 3 for all columns: {num_rows}\")"
   ]
  },
  {
   "cell_type": "code",
   "execution_count": 18,
   "metadata": {},
   "outputs": [
    {
     "name": "stdout",
     "output_type": "stream",
     "text": [
      "Number of rows with z-scores between -3 and 3 for all columns: 3291584\n"
     ]
    }
   ],
   "source": [
    "import pandas as pd\n",
    "from scipy.stats import zscore\n",
    "\n",
    "\n",
    "z_scores = test_df.apply(zscore)\n",
    "\n",
    "in_range = (z_scores >= -3) & (z_scores <= 3)\n",
    "\n",
    "rows_in_range = in_range.all(axis=1)\n",
    "\n",
    "test_df = test_df[rows_in_range]\n",
    "\n",
    "num_rows = test_df.shape[0]\n",
    "\n",
    "print(f\"Number of rows with z-scores between -3 and 3 for all columns: {num_rows}\")"
   ]
  },
  {
   "cell_type": "code",
   "execution_count": 15,
   "metadata": {},
   "outputs": [
    {
     "name": "stderr",
     "output_type": "stream",
     "text": [
      "c:\\Users\\ANNIE CHRISTINA G\\AppData\\Local\\Programs\\Python\\Python312\\Lib\\site-packages\\xgboost\\core.py:158: UserWarning: [02:13:39] WARNING: C:\\buildkite-agent\\builds\\buildkite-windows-cpu-autoscaling-group-i-0015a694724fa8361-1\\xgboost\\xgboost-ci-windows\\src\\learner.cc:740: \n",
      "Parameters: { \"use_label_encoder\" } are not used.\n",
      "\n",
      "  warnings.warn(smsg, UserWarning)\n"
     ]
    },
    {
     "name": "stdout",
     "output_type": "stream",
     "text": [
      "Training Data Classification Report:\n",
      "               precision    recall  f1-score   support\n",
      "\n",
      "     Class 0       0.67      0.75      0.71    642260\n",
      "     Class 1       0.44      0.52      0.48    313958\n",
      "     Class 2       0.82      0.63      0.71    552849\n",
      "\n",
      "    accuracy                           0.66   1509067\n",
      "   macro avg       0.64      0.63      0.63   1509067\n",
      "weighted avg       0.68      0.66      0.66   1509067\n",
      "\n",
      "Test Data Classification Report:\n",
      "               precision    recall  f1-score   support\n",
      "\n",
      "     Class 0       0.64      0.60      0.62   1365546\n",
      "     Class 1       0.33      0.52      0.41    662106\n",
      "     Class 2       0.80      0.62      0.70   1263932\n",
      "\n",
      "    accuracy                           0.59   3291584\n",
      "   macro avg       0.59      0.58      0.58   3291584\n",
      "weighted avg       0.64      0.59      0.61   3291584\n",
      "\n"
     ]
    }
   ],
   "source": [
    "import pandas as pd\n",
    "from sklearn.model_selection import train_test_split\n",
    "from sklearn.impute import SimpleImputer\n",
    "from sklearn.preprocessing import StandardScaler\n",
    "from xgboost import XGBClassifier\n",
    "from imblearn.under_sampling import RandomUnderSampler\n",
    "from imblearn.pipeline import Pipeline as ImbPipeline\n",
    "from sklearn.compose import ColumnTransformer\n",
    "from sklearn.pipeline import Pipeline\n",
    "from sklearn.metrics import classification_report\n",
    "\n",
    "# Assuming train_df and test_df are already defined\n",
    "X = train_df.drop('IncidentGrade', axis=1)\n",
    "y = train_df['IncidentGrade']\n",
    "\n",
    "# Define the ColumnTransformer for numerical features\n",
    "numerical_transformer = ColumnTransformer(\n",
    "    transformers=[\n",
    "        ('num', Pipeline(steps=[\n",
    "            ('imputer', SimpleImputer(strategy='median')),\n",
    "            ('scaler', StandardScaler())\n",
    "        ]), X.select_dtypes(include=['int64', 'float64']).columns)\n",
    "    ])\n",
    "\n",
    "# Define the pipeline with XGBClassifier\n",
    "pipeline = ImbPipeline(steps=[\n",
    "    ('preprocessor', numerical_transformer),\n",
    "    ('under_sampler', RandomUnderSampler(random_state=42)),\n",
    "    ('classifier', XGBClassifier(random_state=42, use_label_encoder=False, eval_metric='mlogloss'))\n",
    "])\n",
    "\n",
    "# Split the data into training and testing sets\n",
    "X_train, X_test, y_train, y_test = train_test_split(X, y, test_size=0.2, random_state=42)\n",
    "\n",
    "# Fit the pipeline on the training data\n",
    "pipeline.fit(X_train, y_train)\n",
    "\n",
    "# Predict and evaluate on training data\n",
    "y_pred_train = pipeline.predict(X_test)\n",
    "report_train = classification_report(y_test, y_pred_train, target_names=['Class 0', 'Class 1', 'Class 2'])\n",
    "print(\"Training Data Classification Report:\\n\", report_train)\n",
    "\n",
    "# Predict and evaluate on test data\n",
    "X_test_df = test_df.drop('IncidentGrade', axis=1)\n",
    "y_test_df = test_df['IncidentGrade']\n",
    "y_pred_test_df = pipeline.predict(X_test_df)\n",
    "report_test_df = classification_report(y_test_df, y_pred_test_df, target_names=['Class 0', 'Class 1', 'Class 2'])\n",
    "print(\"Test Data Classification Report:\\n\", report_test_df)\n",
    "#1"
   ]
  },
  {
   "cell_type": "code",
   "execution_count": 19,
   "metadata": {},
   "outputs": [
    {
     "name": "stderr",
     "output_type": "stream",
     "text": [
      "c:\\Users\\ANNIE CHRISTINA G\\AppData\\Local\\Programs\\Python\\Python312\\Lib\\site-packages\\xgboost\\core.py:158: UserWarning: [02:16:25] WARNING: C:\\buildkite-agent\\builds\\buildkite-windows-cpu-autoscaling-group-i-0015a694724fa8361-1\\xgboost\\xgboost-ci-windows\\src\\learner.cc:740: \n",
      "Parameters: { \"use_label_encoder\" } are not used.\n",
      "\n",
      "  warnings.warn(smsg, UserWarning)\n",
      "c:\\Users\\ANNIE CHRISTINA G\\AppData\\Local\\Programs\\Python\\Python312\\Lib\\site-packages\\xgboost\\core.py:158: UserWarning: [02:17:26] WARNING: C:\\buildkite-agent\\builds\\buildkite-windows-cpu-autoscaling-group-i-0015a694724fa8361-1\\xgboost\\xgboost-ci-windows\\src\\learner.cc:740: \n",
      "Parameters: { \"use_label_encoder\" } are not used.\n",
      "\n",
      "  warnings.warn(smsg, UserWarning)\n",
      "c:\\Users\\ANNIE CHRISTINA G\\AppData\\Local\\Programs\\Python\\Python312\\Lib\\site-packages\\xgboost\\core.py:158: UserWarning: [02:18:26] WARNING: C:\\buildkite-agent\\builds\\buildkite-windows-cpu-autoscaling-group-i-0015a694724fa8361-1\\xgboost\\xgboost-ci-windows\\src\\learner.cc:740: \n",
      "Parameters: { \"use_label_encoder\" } are not used.\n",
      "\n",
      "  warnings.warn(smsg, UserWarning)\n",
      "c:\\Users\\ANNIE CHRISTINA G\\AppData\\Local\\Programs\\Python\\Python312\\Lib\\site-packages\\xgboost\\core.py:158: UserWarning: [02:19:28] WARNING: C:\\buildkite-agent\\builds\\buildkite-windows-cpu-autoscaling-group-i-0015a694724fa8361-1\\xgboost\\xgboost-ci-windows\\src\\learner.cc:740: \n",
      "Parameters: { \"use_label_encoder\" } are not used.\n",
      "\n",
      "  warnings.warn(smsg, UserWarning)\n",
      "c:\\Users\\ANNIE CHRISTINA G\\AppData\\Local\\Programs\\Python\\Python312\\Lib\\site-packages\\xgboost\\core.py:158: UserWarning: [02:20:29] WARNING: C:\\buildkite-agent\\builds\\buildkite-windows-cpu-autoscaling-group-i-0015a694724fa8361-1\\xgboost\\xgboost-ci-windows\\src\\learner.cc:740: \n",
      "Parameters: { \"use_label_encoder\" } are not used.\n",
      "\n",
      "  warnings.warn(smsg, UserWarning)\n"
     ]
    },
    {
     "name": "stdout",
     "output_type": "stream",
     "text": [
      "Cross-validation scores: [0.65637389 0.65713677 0.6577108  0.65589731 0.65729801]\n",
      "Mean cross-validation score: 0.656883358960969\n"
     ]
    },
    {
     "name": "stderr",
     "output_type": "stream",
     "text": [
      "c:\\Users\\ANNIE CHRISTINA G\\AppData\\Local\\Programs\\Python\\Python312\\Lib\\site-packages\\xgboost\\core.py:158: UserWarning: [02:21:33] WARNING: C:\\buildkite-agent\\builds\\buildkite-windows-cpu-autoscaling-group-i-0015a694724fa8361-1\\xgboost\\xgboost-ci-windows\\src\\learner.cc:740: \n",
      "Parameters: { \"use_label_encoder\" } are not used.\n",
      "\n",
      "  warnings.warn(smsg, UserWarning)\n"
     ]
    },
    {
     "name": "stdout",
     "output_type": "stream",
     "text": [
      "Test Data Classification Report:\n",
      "               precision    recall  f1-score   support\n",
      "\n",
      "     Class 0       0.67      0.75      0.71    642260\n",
      "     Class 1       0.44      0.52      0.48    313958\n",
      "     Class 2       0.82      0.63      0.71    552849\n",
      "\n",
      "    accuracy                           0.66   1509067\n",
      "   macro avg       0.64      0.63      0.63   1509067\n",
      "weighted avg       0.68      0.66      0.66   1509067\n",
      "\n",
      "Test Data Classification Report:\n",
      "               precision    recall  f1-score   support\n",
      "\n",
      "     Class 0       0.64      0.60      0.62   1365546\n",
      "     Class 1       0.33      0.52      0.41    662106\n",
      "     Class 2       0.80      0.62      0.70   1263932\n",
      "\n",
      "    accuracy                           0.59   3291584\n",
      "   macro avg       0.59      0.58      0.58   3291584\n",
      "weighted avg       0.64      0.59      0.61   3291584\n",
      "\n"
     ]
    }
   ],
   "source": [
    "import pandas as pd\n",
    "from sklearn.model_selection import train_test_split, cross_val_score\n",
    "from sklearn.impute import SimpleImputer\n",
    "from sklearn.preprocessing import StandardScaler\n",
    "from xgboost import XGBClassifier\n",
    "from imblearn.under_sampling import RandomUnderSampler\n",
    "from imblearn.pipeline import Pipeline as ImbPipeline\n",
    "from sklearn.compose import ColumnTransformer\n",
    "from sklearn.metrics import classification_report\n",
    "\n",
    "# Assuming train_df and test_df are already defined\n",
    "X = train_df.drop('IncidentGrade', axis=1)\n",
    "y = train_df['IncidentGrade']\n",
    "\n",
    "# Define the ColumnTransformer for numerical features\n",
    "numerical_transformer = ColumnTransformer(\n",
    "    transformers=[\n",
    "        ('num', Pipeline(steps=[\n",
    "            ('imputer', SimpleImputer(strategy='median')),\n",
    "            ('scaler', StandardScaler())\n",
    "        ]), X.select_dtypes(include=['int64', 'float64']).columns)\n",
    "    ])\n",
    "\n",
    "# Define the pipeline with XGBClassifier\n",
    "pipeline = ImbPipeline(steps=[\n",
    "    ('preprocessor', numerical_transformer),\n",
    "    ('under_sampler', RandomUnderSampler(random_state=42)),\n",
    "    ('classifier', XGBClassifier(random_state=42, use_label_encoder=False, eval_metric='mlogloss'))\n",
    "])\n",
    "\n",
    "# Split the data into training and testing sets\n",
    "X_train, X_test, y_train, y_test = train_test_split(X, y, test_size=0.2, random_state=42)\n",
    "\n",
    "# Perform cross-validation\n",
    "cv_scores = cross_val_score(pipeline, X_train, y_train, cv=5, scoring='accuracy')\n",
    "print(f'Cross-validation scores: {cv_scores}')\n",
    "print(f'Mean cross-validation score: {cv_scores.mean()}')\n",
    "\n",
    "# Fit the pipeline on the entire training data\n",
    "pipeline.fit(X_train, y_train)\n",
    "\n",
    "# Predict and evaluate on the test data\n",
    "y_pred = pipeline.predict(X_test)\n",
    "report = classification_report(y_test, y_pred, target_names=['Class 0', 'Class 1', 'Class 2'])\n",
    "print(\"Test Data Classification Report:\\n\", report)\n",
    "\n",
    "# Assuming test_df is already defined and has the same structure as train_df\n",
    "X_test_df = test_df.drop('IncidentGrade', axis=1)\n",
    "y_test_df = test_df['IncidentGrade']\n",
    "\n",
    "# Predict using the pipeline\n",
    "y_pred_test_df = pipeline.predict(X_test_df)\n",
    "\n",
    "# Evaluate the predictions\n",
    "report_test_df = classification_report(y_test_df, y_pred_test_df, target_names=['Class 0', 'Class 1', 'Class 2'])\n",
    "print(\"Test Data Classification Report:\\n\", report_test_df)\n"
   ]
  }
 ],
 "metadata": {
  "kernelspec": {
   "display_name": "Python 3",
   "language": "python",
   "name": "python3"
  },
  "language_info": {
   "codemirror_mode": {
    "name": "ipython",
    "version": 3
   },
   "file_extension": ".py",
   "mimetype": "text/x-python",
   "name": "python",
   "nbconvert_exporter": "python",
   "pygments_lexer": "ipython3",
   "version": "3.12.4"
  }
 },
 "nbformat": 4,
 "nbformat_minor": 2
}
