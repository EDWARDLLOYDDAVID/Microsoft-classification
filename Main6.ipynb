{
 "cells": [
  {
   "cell_type": "code",
   "execution_count": 1,
   "metadata": {},
   "outputs": [],
   "source": [
    "import pandas as pd\n",
    "\n",
    "train_df = pd.read_csv('Train.csv')\n",
    "test_df = pd.read_csv('Test.csv')"
   ]
  },
  {
   "cell_type": "code",
   "execution_count": 2,
   "metadata": {},
   "outputs": [
    {
     "name": "stdout",
     "output_type": "stream",
     "text": [
      "Number of rows with z-scores between -3 and 3 for all columns: 7545335\n"
     ]
    }
   ],
   "source": [
    "import pandas as pd\n",
    "from scipy.stats import zscore\n",
    "\n",
    "\n",
    "\n",
    "z_scores = train_df.apply(zscore)\n",
    "\n",
    "in_range = (z_scores >= -3) & (z_scores <= 3)\n",
    "\n",
    "rows_in_range = in_range.all(axis=1)\n",
    "\n",
    "train_df = train_df[rows_in_range]\n",
    "\n",
    "num_rows = train_df.shape[0]\n",
    "\n",
    "print(f\"Number of rows with z-scores between -3 and 3 for all columns: {num_rows}\")"
   ]
  },
  {
   "cell_type": "code",
   "execution_count": 3,
   "metadata": {},
   "outputs": [
    {
     "name": "stdout",
     "output_type": "stream",
     "text": [
      "Number of rows with z-scores between -3 and 3 for all columns: 3291584\n"
     ]
    }
   ],
   "source": [
    "import pandas as pd\n",
    "from scipy.stats import zscore\n",
    "\n",
    "\n",
    "\n",
    "z_scores = test_df.apply(zscore)\n",
    "\n",
    "in_range = (z_scores >= -3) & (z_scores <= 3)\n",
    "\n",
    "rows_in_range = in_range.all(axis=1)\n",
    "\n",
    "test_df = test_df[rows_in_range]\n",
    "\n",
    "num_rows = test_df.shape[0]\n",
    "\n",
    "print(f\"Number of rows with z-scores between -3 and 3 for all columns: {num_rows}\")"
   ]
  },
  {
   "cell_type": "code",
   "execution_count": 4,
   "metadata": {},
   "outputs": [
    {
     "name": "stdout",
     "output_type": "stream",
     "text": [
      "Cross-validation accuracy scores: [0.42571729 0.42571729 0.42571729 0.36647082]\n",
      "Mean cross-validation accuracy: 0.41\n",
      "Training Data Classification Report:\n",
      "               precision    recall  f1-score   support\n",
      "\n",
      "     Class 0       0.48      0.64      0.55    963675\n",
      "     Class 1       0.29      0.29      0.29    470829\n",
      "     Class 2       0.62      0.38      0.47    829097\n",
      "\n",
      "    accuracy                           0.47   2263601\n",
      "   macro avg       0.46      0.44      0.44   2263601\n",
      "weighted avg       0.49      0.47      0.47   2263601\n",
      "\n",
      "Test Data Classification Report:\n",
      "               precision    recall  f1-score   support\n",
      "\n",
      "     Class 0       0.48      0.65      0.55   1365546\n",
      "     Class 1       0.29      0.29      0.29    662106\n",
      "     Class 2       0.65      0.38      0.48   1263932\n",
      "\n",
      "    accuracy                           0.48   3291584\n",
      "   macro avg       0.47      0.44      0.44   3291584\n",
      "weighted avg       0.50      0.48      0.47   3291584\n",
      "\n"
     ]
    }
   ],
   "source": [
    "from sklearn.model_selection import train_test_split, cross_val_score\n",
    "from sklearn.neural_network import MLPClassifier\n",
    "from imblearn.under_sampling import RandomUnderSampler\n",
    "from imblearn.pipeline import Pipeline as ImbPipeline\n",
    "from sklearn.impute import SimpleImputer\n",
    "from sklearn.preprocessing import StandardScaler\n",
    "from sklearn.metrics import classification_report\n",
    "\n",
    "# Assuming train_df and test_df are already defined\n",
    "X = train_df.drop('IncidentGrade', axis=1)\n",
    "y = train_df['IncidentGrade']\n",
    "\n",
    "# Define the pipeline with SimpleImputer, StandardScaler, RandomUnderSampler, and MLPClassifier\n",
    "pipeline = ImbPipeline(steps=[\n",
    "    ('imputer', SimpleImputer(strategy='median')),\n",
    "    ('under_sampler', RandomUnderSampler(random_state=42)),\n",
    "    ('classifier', MLPClassifier(hidden_layer_sizes=(10,10,10,), max_iter=200, solver='adam', random_state=42))\n",
    "])\n",
    "\n",
    "# Perform cross-validation\n",
    "cv_scores = cross_val_score(pipeline, X, y, cv=4, scoring='accuracy')\n",
    "print(f'Cross-validation accuracy scores: {cv_scores}')\n",
    "print(f'Mean cross-validation accuracy: {cv_scores.mean():.2f}')\n",
    "\n",
    "# Split the data\n",
    "X_train, X_test, y_train, y_test = train_test_split(X, y, test_size=0.3, random_state=42)\n",
    "\n",
    "# Fit the pipeline\n",
    "pipeline.fit(X_train, y_train)\n",
    "\n",
    "# Predict and evaluate on training data\n",
    "y_pred_train = pipeline.predict(X_test)\n",
    "report_train = classification_report(y_test, y_pred_train, target_names=['Class 0', 'Class 1', 'Class 2'])\n",
    "print(\"Training Data Classification Report:\\n\", report_train)\n",
    "\n",
    "# Predict and evaluate on test data\n",
    "X_test_df = test_df.drop('IncidentGrade', axis=1)\n",
    "y_test_df = test_df['IncidentGrade']\n",
    "y_pred_test_df = pipeline.predict(X_test_df)\n",
    "report_test_df = classification_report(y_test_df, y_pred_test_df, target_names=['Class 0', 'Class 1', 'Class 2'])\n",
    "print(\"Test Data Classification Report:\\n\",report_test_df)\n"
   ]
  },
  {
   "cell_type": "code",
   "execution_count": 4,
   "metadata": {},
   "outputs": [
    {
     "name": "stderr",
     "output_type": "stream",
     "text": [
      "c:\\Users\\91984\\AppData\\Local\\Programs\\Python\\Python312\\Lib\\site-packages\\sklearn\\neural_network\\_multilayer_perceptron.py:690: ConvergenceWarning: Stochastic Optimizer: Maximum iterations (25) reached and the optimization hasn't converged yet.\n",
      "  warnings.warn(\n",
      "c:\\Users\\91984\\AppData\\Local\\Programs\\Python\\Python312\\Lib\\site-packages\\sklearn\\neural_network\\_multilayer_perceptron.py:690: ConvergenceWarning: Stochastic Optimizer: Maximum iterations (25) reached and the optimization hasn't converged yet.\n",
      "  warnings.warn(\n",
      "c:\\Users\\91984\\AppData\\Local\\Programs\\Python\\Python312\\Lib\\site-packages\\sklearn\\neural_network\\_multilayer_perceptron.py:690: ConvergenceWarning: Stochastic Optimizer: Maximum iterations (25) reached and the optimization hasn't converged yet.\n",
      "  warnings.warn(\n",
      "c:\\Users\\91984\\AppData\\Local\\Programs\\Python\\Python312\\Lib\\site-packages\\sklearn\\neural_network\\_multilayer_perceptron.py:690: ConvergenceWarning: Stochastic Optimizer: Maximum iterations (25) reached and the optimization hasn't converged yet.\n",
      "  warnings.warn(\n",
      "c:\\Users\\91984\\AppData\\Local\\Programs\\Python\\Python312\\Lib\\site-packages\\sklearn\\neural_network\\_multilayer_perceptron.py:690: ConvergenceWarning: Stochastic Optimizer: Maximum iterations (25) reached and the optimization hasn't converged yet.\n",
      "  warnings.warn(\n"
     ]
    },
    {
     "name": "stdout",
     "output_type": "stream",
     "text": [
      "Cross-validation accuracy scores: [0.6432776  0.63528922 0.6409563  0.63944808 0.64092118]\n",
      "Mean cross-validation accuracy: 0.64\n"
     ]
    },
    {
     "name": "stderr",
     "output_type": "stream",
     "text": [
      "c:\\Users\\91984\\AppData\\Local\\Programs\\Python\\Python312\\Lib\\site-packages\\sklearn\\neural_network\\_multilayer_perceptron.py:690: ConvergenceWarning: Stochastic Optimizer: Maximum iterations (25) reached and the optimization hasn't converged yet.\n",
      "  warnings.warn(\n"
     ]
    },
    {
     "name": "stdout",
     "output_type": "stream",
     "text": [
      "Training Data Classification Report:\n",
      "               precision    recall  f1-score   support\n",
      "\n",
      "     Class 0       0.62      0.81      0.70    963675\n",
      "     Class 1       0.42      0.33      0.37    470829\n",
      "     Class 2       0.80      0.62      0.70    829097\n",
      "\n",
      "    accuracy                           0.64   2263601\n",
      "   macro avg       0.61      0.59      0.59   2263601\n",
      "weighted avg       0.65      0.64      0.63   2263601\n",
      "\n",
      "Test Data Classification Report:\n",
      "               precision    recall  f1-score   support\n",
      "\n",
      "     Class 0       0.56      0.52      0.54   1365546\n",
      "     Class 1       0.33      0.25      0.29    662106\n",
      "     Class 2       0.48      0.57      0.52   1263932\n",
      "\n",
      "    accuracy                           0.49   3291584\n",
      "   macro avg       0.45      0.45      0.45   3291584\n",
      "weighted avg       0.48      0.49      0.48   3291584\n",
      "\n"
     ]
    }
   ],
   "source": [
    "from sklearn.model_selection import train_test_split, cross_val_score\n",
    "from sklearn.neural_network import MLPClassifier\n",
    "from imblearn.under_sampling import RandomUnderSampler\n",
    "from imblearn.pipeline import Pipeline as ImbPipeline\n",
    "from sklearn.impute import SimpleImputer\n",
    "from sklearn.preprocessing import StandardScaler\n",
    "from sklearn.metrics import classification_report\n",
    "\n",
    "# Assuming train_df and test_df are already defined\n",
    "X = train_df.drop('IncidentGrade', axis=1)\n",
    "y = train_df['IncidentGrade']\n",
    "\n",
    "# Define the pipeline with SimpleImputer, StandardScaler, RandomUnderSampler, and MLPClassifier\n",
    "pipeline = ImbPipeline(steps=[\n",
    "    ('imputer', SimpleImputer(strategy='median')),\n",
    "    ('scaler', StandardScaler()),\n",
    "    ('under_sampler', RandomUnderSampler(random_state=42)),\n",
    "    ('classifier', MLPClassifier(hidden_layer_sizes=(10,10,10,), max_iter=200, solver='adam', random_state=42))\n",
    "])\n",
    "\n",
    "# Perform cross-validation\n",
    "cv_scores = cross_val_score(pipeline, X, y, cv=5, scoring='accuracy')\n",
    "print(f'Cross-validation accuracy scores: {cv_scores}')\n",
    "print(f'Mean cross-validation accuracy: {cv_scores.mean():.2f}')\n",
    "\n",
    "# Split the data\n",
    "X_train, X_test, y_train, y_test = train_test_split(X, y, test_size=0.3, random_state=42)\n",
    "\n",
    "# Fit the pipeline\n",
    "pipeline.fit(X_train, y_train)\n",
    "\n",
    "# Predict and evaluate on training data\n",
    "y_pred_train = pipeline.predict(X_test)\n",
    "report_train = classification_report(y_test, y_pred_train, target_names=['Class 0', 'Class 1', 'Class 2'])\n",
    "print(\"Training Data Classification Report:\\n\", report_train)\n",
    "\n",
    "# Predict and evaluate on test data\n",
    "X_test_df = test_df.drop('IncidentGrade', axis=1)\n",
    "y_test_df = test_df['IncidentGrade']\n",
    "y_pred_test_df = pipeline.predict(X_test_df)\n",
    "report_test_df = classification_report(y_test_df, y_pred_test_df, target_names=['Class 0', 'Class 1', 'Class 2'])\n",
    "print(\"Test Data Classification Report:\\n\",report_test_df)\n",
    "\n",
    "##17m53.4\n"
   ]
  }
 ],
 "metadata": {
  "kernelspec": {
   "display_name": "Python 3",
   "language": "python",
   "name": "python3"
  },
  "language_info": {
   "codemirror_mode": {
    "name": "ipython",
    "version": 3
   },
   "file_extension": ".py",
   "mimetype": "text/x-python",
   "name": "python",
   "nbconvert_exporter": "python",
   "pygments_lexer": "ipython3",
   "version": "3.12.4"
  }
 },
 "nbformat": 4,
 "nbformat_minor": 2
}
